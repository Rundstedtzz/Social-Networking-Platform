{
 "cells": [
  {
   "cell_type": "markdown",
   "id": "2fcbb922",
   "metadata": {},
   "source": [
    "# Mini Project 3: Social Networking Platform\n",
    "\n",
    "Neo4j Python Documentation: \n",
    "- https://neo4j.com/docs/api/python-driver/current/api.html\n",
    "- https://neo4j.com/docs/cypher-manual/current/clauses/unwind/"
   ]
  },
  {
   "cell_type": "markdown",
   "id": "3579866f",
   "metadata": {},
   "source": [
    "## Import Libraries"
   ]
  },
  {
   "cell_type": "code",
   "execution_count": 82,
   "id": "a4683f2b",
   "metadata": {},
   "outputs": [],
   "source": [
    "# !pip install neo4j\n",
    "import neo4j\n",
    "import pandas as pd\n",
    "from neo4j import GraphDatabase"
   ]
  },
  {
   "cell_type": "markdown",
   "id": "979b3c81",
   "metadata": {},
   "source": [
    "## Define Neo4j Connection & Clear Functions"
   ]
  },
  {
   "cell_type": "code",
   "execution_count": 83,
   "id": "41e77b14",
   "metadata": {},
   "outputs": [],
   "source": [
    "def connect_db():\n",
    "    driver = neo4j.GraphDatabase.driver(uri=\"neo4j://0.0.0.0:7687\", auth=(\"neo4j\",\"password\"))\n",
    "    session = driver.session(database=\"neo4j\")\n",
    "    return session\n",
    "\n",
    "# Function to execute query and return results in a pandas DataFrame\n",
    "def run_query(query):\n",
    "    driver = neo4j.GraphDatabase.driver(uri=\"neo4j://0.0.0.0:7687\", auth=(\"neo4j\",\"password\"))\n",
    "    with driver.session() as session:\n",
    "        results = session.run(query)\n",
    "        return pd.DataFrame([record.values() for record in results], columns=results.keys())\n",
    "    \n",
    "def wipe_out_db(session):\n",
    "    # wipe out database by deleting all nodes and relationships\n",
    "    \n",
    "    # similar to SELECT * FROM graph_db in SQL\n",
    "    query = \"match (node)-[relationship]->() delete node, relationship\"\n",
    "    session.run(query)\n",
    "    \n",
    "    query = \"match (node) delete node\"\n",
    "    session.run(query)"
   ]
  },
  {
   "cell_type": "code",
   "execution_count": 84,
   "id": "781a3b6e",
   "metadata": {},
   "outputs": [],
   "source": [
    "session = connect_db()\n",
    "wipe_out_db(session) "
   ]
  },
  {
   "cell_type": "markdown",
   "id": "bc5ed68d",
   "metadata": {},
   "source": [
    "## Notes"
   ]
  },
  {
   "cell_type": "markdown",
   "id": "7de37a7c",
   "metadata": {},
   "source": [
    "#### CREATE\n",
    "- Creating a node:\n",
    "    - Ex.: `CREATE (nodeVar:NodeLabel {prop1: 'prop1 value', prop2: 'prop2 value'})`\n",
    "    - ( ) indicates the node\n",
    "    - `nodeVar:NodeLabel` – nodeVar is the node variable, NodeLabel is the node label\n",
    "    - { } contains node properties that describe the node\n",
    "- Creating a relationship:\n",
    "    - Ex.: `CREATE (nodeVar1)-[:name_of_relationship {propA: 'propA value'}]->(nodeVar2)`\n"
   ]
  },
  {
   "cell_type": "markdown",
   "id": "6899929e",
   "metadata": {},
   "source": [
    "#### MATCH \n",
    "- MATCH specifies a pattern of nodes and relationships to query/find\n",
    "- Syntax: \n",
    "```\n",
    "    MATCH [graph_pattern]\n",
    "    WHERE [query]\n",
    "    RETURN [result]\n",
    "```\n",
    "- Ex.: \n",
    "```\n",
    "    MATCH (nodeVar:NodeLabel {prop1: 'prop1 value', prop2: 'prop2 value'})\n",
    "    WHERE nodeVar.prop1 = 'some value'\n",
    "    RETURN nodeVar\n",
    "    ORDER BY nodeVar.prop1, nodeVar.prop2\n",
    "```\n",
    "- Ex.: \n",
    "```\n",
    "    MATCH (src:NodeLabel)-[relationVar:RelationType]->(dst:NodeLabel)\n",
    "    WHERE src.prop1 = 'some value'\n",
    "    RETURN relationVar\n",
    "```\n",
    "\n",
    "**Notes**\n",
    "\n",
    "- MATCH assigns matches to the variable nodeVar.\n",
    "- WHERE filters the query.\n",
    "- nodeVar.prop1 = 'some value' compares _prop1_ property to the value _some value_.\n",
    "- RETURN returns particular results.\n",
    "- Some built-in Cypher functions to retrieve properties:\n",
    "    - type(relationVar): retrieves the edge/connection type\n",
    "    - labels(nodeVar): retrieves the labels of a node\n"
   ]
  },
  {
   "cell_type": "markdown",
   "id": "2f6c8ec4",
   "metadata": {},
   "source": [
    "## Data Base Design & Setup"
   ]
  },
  {
   "cell_type": "markdown",
   "id": "b05a3a26",
   "metadata": {},
   "source": [
    "**Nodes:**\n",
    "\n",
    "1. User: individuals on the platform\n",
    "- Properties: user_id (unique identifier), name (full name), username (unique username), graduation_year (year of graduation), email (email address), linkedin_profile (LinkedIn profile URL), interest (career interest: data science, data analytics, etc.), company_name (name of current employer), current_position (job title)\n",
    "\n",
    "2. Post: content shared by users\n",
    "- Properties: post_id (unique identifier), title (title of the post), body (content of the post), date (date of post creation), type (type of post: text, link, image, video, etc.)\n",
    "\n",
    "3. Event: events that users can attend\n",
    "- Properties: event_id (unique identifier), name (name of the event), description (details about the event), date (date of the event), location (venue of the event)\n",
    "\n",
    "4. Comment: user comments on posts\n",
    "- Properties: comment_id (unique identifier), text (content of the comment), date (date the comment was posted), seen_status (indicates if the comment has been read)\n",
    "\n",
    "**Edges:**\n",
    "\n",
    "1. FRIENDS_WITH (User ↔ User): Indicates a friendship relationship between two users\n",
    "- Properties: since (date the friendship started)\n",
    "\n",
    "2. CREATED (User → Post): Indicates which user created a specific post\n",
    "- No additional properties\n",
    "\n",
    "3. ATTENDING (User → Event): Shows that a user is going to or interested in an event\n",
    "- Properties: rsvp_date (date the user confirmed attendance)\n",
    "\n",
    "4. COMMENTED_ON (User → Comment → Post): Connects a user and their comment to a post\n",
    "- Properties: date (date the comment was made)\n",
    "\n",
    "5. FOLLOWING (User → User): Represents one user following another without mutual friendship\n",
    "- Properties: since (date when the following started)\n",
    "\n",
    "6. HOSTS (User → Event): Indicates which user is hosting a particular event\n",
    "- Properties: date (date when the user announced hosting the event)\n"
   ]
  },
  {
   "cell_type": "markdown",
   "id": "5136f8cc",
   "metadata": {},
   "source": [
    "## Data Insertion"
   ]
  },
  {
   "cell_type": "code",
   "execution_count": 85,
   "id": "4a36be92",
   "metadata": {},
   "outputs": [],
   "source": [
    "schema_dsi = '''\n",
    "USER: \n",
    "\n",
    "CREATE (:User {\n",
    "  user_id: \"<user_id>\", \n",
    "  name: \"<name>\", \n",
    "  username: \"<username>\", \n",
    "  graduation_year: <graduation_year>, \n",
    "  email: \"<email>\", \n",
    "  linkedin_profile: \"<linkedin_profile>\", \n",
    "  interest: \"<interest>\", \n",
    "  company_name: \"<company_name>\", \n",
    "  current_position: \"<current_position>\"\n",
    "})\n",
    "------------------------\n",
    "POST: \n",
    "\n",
    "CREATE (:Post {\n",
    "  post_id: \"<post_id>\", \n",
    "  title: \"<title>\", \n",
    "  body: \"<body>\", \n",
    "  date: \"<date>\", \n",
    "  type: \"<type>\"\n",
    "})\n",
    "------------------------\n",
    "Event: \n",
    "\n",
    "CREATE (:Event {\n",
    "  event_id: \"<event_id>\", \n",
    "  name: \"<name>\", \n",
    "  description: \"<description>\", \n",
    "  date: \"<date>\", \n",
    "  location: \"<location>\"\n",
    "})\n",
    "------------------------\n",
    "Comment:\n",
    "\n",
    "CREATE (:Comment {\n",
    "  comment_id: \"<comment_id>\", \n",
    "  text: \"<text>\", \n",
    "  date: \"<date>\", \n",
    "  seen_status: <seen_status>  // true or false\n",
    "})\n",
    "------------------------\n",
    "------------------------\n",
    "------------------------\n",
    "FRIENDS_WITH: \n",
    "\n",
    "MATCH (u1:User {user_id: \"<user_id1>\"}), (u2:User {user_id: \"<user_id2>\"})\n",
    "CREATE (u1)-[:FRIENDS_WITH {since: \"<since_date>\"}]->(u2)\n",
    "------------------------\n",
    "CREATED:\n",
    "\n",
    "MATCH (u:User {user_id: \"<user_id>\"}), (p:Post {post_id: \"<post_id>\"})\n",
    "CREATE (u)-[:CREATED]->(p)\n",
    "------------------------\n",
    "ATTENDING: \n",
    "\n",
    "MATCH (u:User {user_id: \"<user_id>\"}), (e:Event {event_id: \"<event_id>\"})\n",
    "CREATE (u)-[:ATTENDING {rsvp_date: \"<rsvp_date>\"}]->(e)\n",
    "------------------------\n",
    "COMMENTED_ON:\n",
    "\n",
    "MATCH (u:User {user_id: \"<user_id>\"}), (c:Comment {comment_id: \"<comment_id>\"}), (p:Post {post_id: \"<post_id>\"})\n",
    "CREATE (u)-[:COMMENTED_ON {date: \"<comment_date>\"}]->(c)\n",
    "CREATE (c)-[:COMMENTED_ON {date: \"<comment_date>\"}]->(p)\n",
    "------------------------\n",
    "FOLLOWING: \n",
    "\n",
    "MATCH (u1:User {user_id: \"<follower_user_id>\"}), (u2:User {user_id: \"<followed_user_id>\"})\n",
    "CREATE (u1)-[:FOLLOWING {since: \"<since_date>\"}]->(u2)\n",
    "------------------------\n",
    "HOSTS:\n",
    "\n",
    "MATCH (u:User {user_id: \"<user_id>\"}), (e:Event {event_id: \"<event_id>\"})\n",
    "CREATE (u)-[:HOSTS {date: \"<host_date>\"}]->(e)\n",
    "------------------------\n",
    "'''"
   ]
  },
  {
   "cell_type": "markdown",
   "id": "f5b0d57b",
   "metadata": {},
   "source": [
    "### Nodes"
   ]
  },
  {
   "cell_type": "code",
   "execution_count": 86,
   "id": "725d5e82",
   "metadata": {},
   "outputs": [
    {
     "data": {
      "text/plain": [
       "<neo4j._sync.work.result.Result at 0x13db0fd50>"
      ]
     },
     "execution_count": 86,
     "metadata": {},
     "output_type": "execute_result"
    }
   ],
   "source": [
    "# User nodes\n",
    "query = '''\n",
    "CREATE (u1:User {user_id: \"U001\", name: \"Alice Johnson\", username: \"alicej\", graduation_year: 2022, email: \"alicej@example.com\", linkedin_profile: \"https://linkedin.com/in/alicej\", interest: \"Data Science\", company_name: \"DataTech Inc.\", current_position: \"Data Scientist\"})\n",
    "CREATE (u2:User {user_id: \"U002\", name: \"Bob Smith\", username: \"bobsmith\", graduation_year: 2021, email: \"bobsmith@example.com\", linkedin_profile: \"https://linkedin.com/in/bobsmith\", interest: \"Data Analytics\", company_name: \"AnalytiX\", current_position: \"Data Analyst\"})\n",
    "CREATE (u3:User {user_id: \"U003\", name: \"Carol Lee\", username: \"carollee\", graduation_year: 2024, email: \"carollee@example.com\", linkedin_profile: \"https://linkedin.com/in/carollee\", interest: \"Machine Learning Engineer\", company_name: \"DSI\", current_position: \"Student\"})\n",
    "CREATE (u4:User {user_id: \"U004\", name: \"David Green\", username: \"davidg\", graduation_year: 2019, email: \"davidg@example.com\", linkedin_profile: \"https://linkedin.com/in/davidg\", interest: \"Data Engineering\", company_name: \"BigData Solutions\", current_position: \"Big Data Engineer\"})\n",
    "CREATE (u5:User {user_id: \"U005\", name: \"Eva Turner\", username: \"evat\", graduation_year: 2025, email: \"evat@example.com\", linkedin_profile: \"https://linkedin.com/in/evat\", interest: \"Data Science\", company_name: \"DSI\", current_position: \"Student\"})\n",
    "CREATE (u6:User {user_id: \"U006\", name: \"Frank Harris\", username: \"frankh\", graduation_year: 2024, email: \"frankh@example.com\", linkedin_profile: \"https://linkedin.com/in/frankh\", interest: \"Data Engineering\", company_name: \"DSI\", current_position: \"Student\"})\n",
    "\n",
    "'''\n",
    "session.run(query)\n",
    "\n",
    "# Post nodes\n",
    "query = '''\n",
    "CREATE (p1:Post {post_id: \"P001\", title: \"Introduction to Data Science\", body: \"Exploring the basics of Data Science...\", date: \"2023-11-01\", type: \"text\"})\n",
    "CREATE (p2:Post {post_id: \"P002\", title: \"Latest Trends in Data Analytics\", body: \"An overview of recent developments in Data Analytics...\", date: \"2023-11-05\", type: \"link\"})\n",
    "CREATE (p3:Post {post_id: \"P003\", title: \"Big Data and Its Impact\", body: \"Discussing the impact of Big Data on various industries...\", date: \"2023-11-10\", type: \"video\"})\n",
    "CREATE (p4:Post {post_id: \"P004\", title: \"Visualizing Data Effectively\", body: \"Tips on creating effective data visualizations...\", date: \"2023-11-12\", type: \"image\"})\n",
    "CREATE (p5:Post {post_id: \"P005\", title: \"Understanding Machine Learning Algorithms\", body: \"An introductory guide to machine learning algorithms and their applications.\", date: \"2023-11-15\", type: \"text\"})\n",
    "CREATE (p6:Post {post_id: \"P006\", title: \"The Future of Artificial Intelligence\", body: \"Exploring the potential future developments and impacts of AI.\", date: \"2023-11-17\", type: \"link\"})\n",
    "CREATE (p7:Post {post_id: \"P007\", title: \"Data Privacy in the Digital Age\", body: \"A comprehensive look at data privacy concerns and solutions.\", date: \"2023-11-20\", type: \"text\"})\n",
    "CREATE (p8:Post {post_id: \"P008\", title: \"Top 10 Data Visualization Tools\", body: \"Ranking and reviewing the top 10 tools for data visualization in 2023.\", date: \"2023-11-22\", type: \"link\"})\n",
    "CREATE (p9:Post {post_id: \"P009\", title: \"Blockchain and Data Security\", body: \"How blockchain technology is revolutionizing data security.\", date: \"2023-11-25\", type: \"text\"})\n",
    "CREATE (p10:Post {post_id: \"P010\", title: \"Advancements in Predictive Analytics\", body: \"Discussing recent advancements and trends in predictive analytics.\", date: \"2023-11-28\", type: \"link\"})\n",
    "'''\n",
    "session.run(query)\n",
    "\n",
    "# Event nodes\n",
    "query = '''\n",
    "CREATE (e1:Event {event_id: \"E001\", name: \"Data Science Meetup 2023\", description: \"An event for data science enthusiasts to network and learn.\", date: \"2024-01-15\", location: \"Tech Park, City Center\"})\n",
    "CREATE (e2:Event {event_id: \"E002\", name: \"AI Conference\", description: \"Annual conference on Artificial Intelligence and Machine Learning.\", date: \"2024-02-20\", location: \"Convention Hall, Downtown\"})\n",
    "CREATE (e3:Event {event_id: \"E003\", name: \"Big Data Conference 2024\", description: \"A conference focusing on trends and challenges in Big Data.\", date: \"2024-03-10\", location: \"Tech Arena, Bay Area\"})\n",
    "CREATE (e4:Event {event_id: \"E004\", name: \"Visualize This: A Data Viz Workshop\", description: \"A workshop on advanced data visualization techniques.\", date: \"2024-04-05\", location: \"Innovation Hub, Lakeside\"})\n",
    "'''\n",
    "session.run(query)\n",
    "\n",
    "# Comment nodes\n",
    "query = '''\n",
    "CREATE (c1:Comment {comment_id: \"C001\", text: \"Great post! Very informative.\", date: \"2023-11-02\", seen_status: false})\n",
    "CREATE (c2:Comment {comment_id: \"C002\", text: \"Looking forward to this event.\", date: \"2023-11-06\", seen_status: true})\n",
    "CREATE (c3:Comment {comment_id: \"C003\", text: \"Insightful article on big data!\", date: \"2023-11-11\", seen_status: false})\n",
    "CREATE (c4:Comment {comment_id: \"C004\", text: \"Can't wait for the workshop on data visualization.\", date: \"2023-11-13\", seen_status: true})\n",
    "CREATE (c5:Comment {comment_id: \"C005\", text: \"Really insightful post on ML algorithms!\", date: \"2023-11-16\", seen_status: true})\n",
    "CREATE (c6:Comment {comment_id: \"C006\", text: \"The future of AI is both exciting and a bit daunting.\", date: \"2023-11-18\", seen_status: false})\n",
    "CREATE (c7:Comment {comment_id: \"C007\", text: \"Data privacy is such a critical topic today. Thanks for this post!\", date: \"2023-11-21\", seen_status: true})\n",
    "CREATE (c8:Comment {comment_id: \"C008\", text: \"Been looking for a good list of data viz tools. This is great!\", date: \"2023-11-23\", seen_status: false})\n",
    "CREATE (c9:Comment {comment_id: \"C009\", text: \"Blockchain's role in data security cannot be overstated. Fascinating read.\", date: \"2023-11-26\", seen_status: true})\n",
    "CREATE (c10:Comment {comment_id: \"C010\", text: \"Predictive analytics is evolving rapidly. Great to stay updated with posts like these.\", date: \"2023-11-29\", seen_status: false})\n",
    "'''\n",
    "session.run(query)"
   ]
  },
  {
   "cell_type": "markdown",
   "id": "d6756057",
   "metadata": {},
   "source": [
    "### Edges"
   ]
  },
  {
   "cell_type": "code",
   "execution_count": 87,
   "id": "2f877b4b",
   "metadata": {},
   "outputs": [
    {
     "data": {
      "text/plain": [
       "<neo4j._sync.work.result.Result at 0x13da77950>"
      ]
     },
     "execution_count": 87,
     "metadata": {},
     "output_type": "execute_result"
    }
   ],
   "source": [
    "# FRIENDS_WITH (User ↔ User)\n",
    "query1 = '''\n",
    "MATCH (u1:User {user_id: \"U001\"}), (u2:User {user_id: \"U002\"})\n",
    "CREATE (u1)-[:FRIENDS_WITH {since: \"2021-06-15\"}]->(u2)\n",
    "CREATE (u2)-[:FRIENDS_WITH {since: \"2021-06-15\"}]->(u1)\n",
    "'''\n",
    "\n",
    "query2 = '''\n",
    "MATCH (u3:User {user_id: \"U003\"}), (u4:User {user_id: \"U004\"})\n",
    "CREATE (u3)-[:FRIENDS_WITH {since: \"2020-08-10\"}]->(u4)\n",
    "CREATE (u4)-[:FRIENDS_WITH {since: \"2020-08-10\"}]->(u3)\n",
    "'''\n",
    "session.run(query2)\n",
    "\n",
    "query3 = '''\n",
    "MATCH (u1:User {user_id: \"U001\"}), (u3:User {user_id: \"U003\"})\n",
    "CREATE (u1)-[:FRIENDS_WITH {since: \"2022-02-05\"}]->(u3)\n",
    "CREATE (u3)-[:FRIENDS_WITH {since: \"2022-02-05\"}]->(u1)\n",
    "'''\n",
    "session.run(query3)\n",
    "\n",
    "# query4 = '''\n",
    "# MATCH (u1:User {user_id: \"U001\"}), (u4:User {user_id: \"U004\"})\n",
    "# CREATE (u1)-[:FRIENDS_WITH {since: \"2021-07-10\"}]->(u4)\n",
    "# CREATE (u4)-[:FRIENDS_WITH {since: \"2021-07-10\"}]->(u1)\n",
    "# '''\n",
    "# session.run(query4)\n",
    "\n",
    "query5 = '''\n",
    "MATCH (u2:User {user_id: \"U002\"}), (u5:User {user_id: \"U005\"})\n",
    "CREATE (u2)-[:FRIENDS_WITH {since: \"2020-11-22\"}]->(u5)\n",
    "CREATE (u5)-[:FRIENDS_WITH {since: \"2020-11-22\"}]->(u2)\n",
    "'''\n",
    "session.run(query5)"
   ]
  },
  {
   "cell_type": "code",
   "execution_count": 88,
   "id": "e9bc341d",
   "metadata": {},
   "outputs": [
    {
     "data": {
      "text/plain": [
       "<neo4j._sync.work.result.Result at 0x13da97e10>"
      ]
     },
     "execution_count": 88,
     "metadata": {},
     "output_type": "execute_result"
    }
   ],
   "source": [
    "# CREATED (User → Post)\n",
    "query = '''\n",
    "WITH [\n",
    "    {userId: \"U001\", postId: \"P001\"},\n",
    "    {userId: \"U002\", postId: \"P002\"},\n",
    "    {userId: \"U003\", postId: \"P003\"},\n",
    "    {userId: \"U003\", postId: \"P004\"},\n",
    "    {userId: \"U004\", postId: \"P005\"},\n",
    "    {userId: \"U005\", postId: \"P006\"},\n",
    "    {userId: \"U003\", postId: \"P007\"},\n",
    "    {userId: \"U001\", postId: \"P008\"},\n",
    "    {userId: \"U002\", postId: \"P009\"},\n",
    "    {userId: \"U003\", postId: \"P010\"}\n",
    "] AS userPostPairs\n",
    "UNWIND userPostPairs AS userPostPair\n",
    "MATCH (u:User {user_id: userPostPair.userId}), (p:Post {post_id: userPostPair.postId})\n",
    "CREATE (u)-[:CREATED]->(p)\n",
    "'''\n",
    "session.run(query)"
   ]
  },
  {
   "cell_type": "code",
   "execution_count": 89,
   "id": "92071710",
   "metadata": {},
   "outputs": [
    {
     "data": {
      "text/plain": [
       "<neo4j._sync.work.result.Result at 0x13da954d0>"
      ]
     },
     "execution_count": 89,
     "metadata": {},
     "output_type": "execute_result"
    }
   ],
   "source": [
    "# ATTENDING (User → Event)\n",
    "query = '''\n",
    "WITH [\n",
    "    {userId: \"U001\", eventId: \"E001\", rsvpDate: \"2023-12-01\"},\n",
    "    {userId: \"U002\", eventId: \"E002\", rsvpDate: \"2023-12-05\"},\n",
    "    {userId: \"U001\", eventId: \"E002\", rsvpDate: \"2023-12-10\"},\n",
    "    {userId: \"U002\", eventId: \"E003\", rsvpDate: \"2023-12-15\"},\n",
    "    {userId: \"U003\", eventId: \"E004\", rsvpDate: \"2023-12-20\"},\n",
    "    {userId: \"U004\", eventId: \"E001\", rsvpDate: \"2023-11-30\"},\n",
    "    {userId: \"U005\", eventId: \"E002\", rsvpDate: \"2023-12-05\"},\n",
    "    {userId: \"U006\", eventId: \"E003\", rsvpDate: \"2024-01-05\"}\n",
    "] AS userEventPairs\n",
    "UNWIND userEventPairs AS userEventPair\n",
    "MATCH (u:User {user_id: userEventPair.userId}), (e:Event {event_id: userEventPair.eventId})\n",
    "CREATE (u)-[:ATTENDING {rsvp_date: userEventPair.rsvpDate}]->(e)\n",
    "'''\n",
    "session.run(query)"
   ]
  },
  {
   "cell_type": "code",
   "execution_count": 90,
   "id": "831b710f",
   "metadata": {},
   "outputs": [
    {
     "data": {
      "text/plain": [
       "<neo4j._sync.work.result.Result at 0x13da96fd0>"
      ]
     },
     "execution_count": 90,
     "metadata": {},
     "output_type": "execute_result"
    }
   ],
   "source": [
    "# COMMENTED_ON (User → Comment → Post)\n",
    "query = '''\n",
    "WITH [\n",
    "    {userId: \"U001\", commentId: \"C001\", postId: \"P001\", date: \"2023-11-02\"},\n",
    "    {userId: \"U002\", commentId: \"C002\", postId: \"P001\", date: \"2023-11-06\"},\n",
    "    {userId: \"U003\", commentId: \"C003\", postId: \"P002\", date: \"2023-11-11\"},\n",
    "    {userId: \"U004\", commentId: \"C004\", postId: \"P003\", date: \"2023-11-13\"},\n",
    "    {userId: \"U005\", commentId: \"C005\", postId: \"P004\", date: \"2023-11-16\"},\n",
    "    {userId: \"U006\", commentId: \"C006\", postId: \"P005\", date: \"2023-11-18\"},\n",
    "    {userId: \"U001\", commentId: \"C007\", postId: \"P006\", date: \"2023-11-21\"},\n",
    "    {userId: \"U002\", commentId: \"C008\", postId: \"P007\", date: \"2023-11-23\"},\n",
    "    {userId: \"U003\", commentId: \"C009\", postId: \"P008\", date: \"2023-11-26\"},\n",
    "    {userId: \"U004\", commentId: \"C010\", postId: \"P009\", date: \"2023-11-29\"}\n",
    "] AS userCommentPostTriples\n",
    "UNWIND userCommentPostTriples AS ucp\n",
    "MATCH (u:User {user_id: ucp.userId}), (c:Comment {comment_id: ucp.commentId}), (p:Post {post_id: ucp.postId})\n",
    "CREATE (u)-[:COMMENTED_ON {date: ucp.date}]->(c)-[:COMMENTED_ON {date: ucp.date}]->(p)\n",
    "'''\n",
    "session.run(query)\n"
   ]
  },
  {
   "cell_type": "code",
   "execution_count": 91,
   "id": "c6b9de47",
   "metadata": {},
   "outputs": [
    {
     "data": {
      "text/plain": [
       "<neo4j._sync.work.result.Result at 0x13da74090>"
      ]
     },
     "execution_count": 91,
     "metadata": {},
     "output_type": "execute_result"
    }
   ],
   "source": [
    "# FOLLOWING (User → User)\n",
    "query = '''\n",
    "WITH [\n",
    "    {followerId: \"U001\", followedId: \"U003\", since: \"2022-01-01\"},\n",
    "    {followerId: \"U002\", followedId: \"U004\", since: \"2022-05-20\"},\n",
    "    {followerId: \"U001\", followedId: \"U005\", since: \"2023-05-01\"},\n",
    "    {followerId: \"U002\", followedId: \"U001\", since: \"2023-03-15\"},\n",
    "    {followerId: \"U003\", followedId: \"U001\", since: \"2022-12-10\"},\n",
    "    {followerId: \"U004\", followedId: \"U002\", since: \"2023-02-20\"},\n",
    "    {followerId: \"U005\", followedId: \"U003\", since: \"2023-04-05\"},\n",
    "    {followerId: \"U003\", followedId: \"U004\", since: \"2023-01-30\"}\n",
    "] AS userFollowPairs\n",
    "UNWIND userFollowPairs AS ufp\n",
    "MATCH (follower:User {user_id: ufp.followerId}), (followed:User {user_id: ufp.followedId})\n",
    "CREATE (follower)-[:FOLLOWING {since: ufp.since}]->(followed)\n",
    "'''\n",
    "session.run(query)"
   ]
  },
  {
   "cell_type": "code",
   "execution_count": 92,
   "id": "fd562333",
   "metadata": {},
   "outputs": [
    {
     "data": {
      "text/plain": [
       "<neo4j._sync.work.result.Result at 0x13db0de50>"
      ]
     },
     "execution_count": 92,
     "metadata": {},
     "output_type": "execute_result"
    }
   ],
   "source": [
    "# HOSTS (User → Event)\n",
    "query = '''\n",
    "WITH [\n",
    "    {userId: \"U004\", eventId: \"E003\", date: \"2023-11-10\"},\n",
    "    {userId: \"U005\", eventId: \"E004\", date: \"2023-11-15\"},\n",
    "    {userId: \"U002\", eventId: \"E001\", date: \"2023-11-30\"},\n",
    "    {userId: \"U003\", eventId: \"E002\", date: \"2023-12-10\"},\n",
    "    {userId: \"U001\", eventId: \"E003\", date: \"2024-01-05\"}\n",
    "] AS userEventPairs\n",
    "UNWIND userEventPairs AS uep\n",
    "MATCH (u:User {user_id: uep.userId}), (e:Event {event_id: uep.eventId})\n",
    "CREATE (u)-[:HOSTS {date: uep.date}]->(e)\n",
    "'''\n",
    "session.run(query)"
   ]
  },
  {
   "cell_type": "markdown",
   "id": "f6082374",
   "metadata": {},
   "source": [
    "## Data Retrieval & Querying"
   ]
  },
  {
   "cell_type": "markdown",
   "id": "99e0520f",
   "metadata": {},
   "source": [
    "### Retrieve a property of a specific User"
   ]
  },
  {
   "cell_type": "code",
   "execution_count": 93,
   "id": "b43468e9",
   "metadata": {},
   "outputs": [
    {
     "data": {
      "text/html": [
       "<div>\n",
       "<style scoped>\n",
       "    .dataframe tbody tr th:only-of-type {\n",
       "        vertical-align: middle;\n",
       "    }\n",
       "\n",
       "    .dataframe tbody tr th {\n",
       "        vertical-align: top;\n",
       "    }\n",
       "\n",
       "    .dataframe thead th {\n",
       "        text-align: right;\n",
       "    }\n",
       "</style>\n",
       "<table border=\"1\" class=\"dataframe\">\n",
       "  <thead>\n",
       "    <tr style=\"text-align: right;\">\n",
       "      <th></th>\n",
       "      <th>u.email</th>\n",
       "    </tr>\n",
       "  </thead>\n",
       "  <tbody>\n",
       "    <tr>\n",
       "      <th>0</th>\n",
       "      <td>alicej@example.com</td>\n",
       "    </tr>\n",
       "  </tbody>\n",
       "</table>\n",
       "</div>"
      ],
      "text/plain": [
       "              u.email\n",
       "0  alicej@example.com"
      ]
     },
     "execution_count": 93,
     "metadata": {},
     "output_type": "execute_result"
    }
   ],
   "source": [
    "query = '''\n",
    "MATCH (u:User {user_id: \"U001\"})\n",
    "RETURN u.email\n",
    "'''\n",
    "df = run_query(query)\n",
    "df"
   ]
  },
  {
   "cell_type": "markdown",
   "id": "09061638",
   "metadata": {},
   "source": [
    "### Find all Posts created by a specific User"
   ]
  },
  {
   "cell_type": "code",
   "execution_count": 94,
   "id": "a9070877",
   "metadata": {},
   "outputs": [
    {
     "data": {
      "text/html": [
       "<div>\n",
       "<style scoped>\n",
       "    .dataframe tbody tr th:only-of-type {\n",
       "        vertical-align: middle;\n",
       "    }\n",
       "\n",
       "    .dataframe tbody tr th {\n",
       "        vertical-align: top;\n",
       "    }\n",
       "\n",
       "    .dataframe thead th {\n",
       "        text-align: right;\n",
       "    }\n",
       "</style>\n",
       "<table border=\"1\" class=\"dataframe\">\n",
       "  <thead>\n",
       "    <tr style=\"text-align: right;\">\n",
       "      <th></th>\n",
       "      <th>post.title</th>\n",
       "      <th>post.body</th>\n",
       "      <th>post.date</th>\n",
       "      <th>post.type</th>\n",
       "    </tr>\n",
       "  </thead>\n",
       "  <tbody>\n",
       "    <tr>\n",
       "      <th>0</th>\n",
       "      <td>Big Data and Its Impact</td>\n",
       "      <td>Discussing the impact of Big Data on various i...</td>\n",
       "      <td>2023-11-10</td>\n",
       "      <td>video</td>\n",
       "    </tr>\n",
       "    <tr>\n",
       "      <th>1</th>\n",
       "      <td>Advancements in Predictive Analytics</td>\n",
       "      <td>Discussing recent advancements and trends in p...</td>\n",
       "      <td>2023-11-28</td>\n",
       "      <td>link</td>\n",
       "    </tr>\n",
       "    <tr>\n",
       "      <th>2</th>\n",
       "      <td>Data Privacy in the Digital Age</td>\n",
       "      <td>A comprehensive look at data privacy concerns ...</td>\n",
       "      <td>2023-11-20</td>\n",
       "      <td>text</td>\n",
       "    </tr>\n",
       "    <tr>\n",
       "      <th>3</th>\n",
       "      <td>Visualizing Data Effectively</td>\n",
       "      <td>Tips on creating effective data visualizations...</td>\n",
       "      <td>2023-11-12</td>\n",
       "      <td>image</td>\n",
       "    </tr>\n",
       "  </tbody>\n",
       "</table>\n",
       "</div>"
      ],
      "text/plain": [
       "                             post.title  \\\n",
       "0               Big Data and Its Impact   \n",
       "1  Advancements in Predictive Analytics   \n",
       "2       Data Privacy in the Digital Age   \n",
       "3          Visualizing Data Effectively   \n",
       "\n",
       "                                           post.body   post.date post.type  \n",
       "0  Discussing the impact of Big Data on various i...  2023-11-10     video  \n",
       "1  Discussing recent advancements and trends in p...  2023-11-28      link  \n",
       "2  A comprehensive look at data privacy concerns ...  2023-11-20      text  \n",
       "3  Tips on creating effective data visualizations...  2023-11-12     image  "
      ]
     },
     "execution_count": 94,
     "metadata": {},
     "output_type": "execute_result"
    }
   ],
   "source": [
    "query = '''\n",
    "MATCH (u:User {name: \"Carol Lee\"})-[:CREATED]->(post:Post)\n",
    "RETURN post.title, post.body, post.date, post.type\n",
    "'''\n",
    "df = run_query(query)\n",
    "df"
   ]
  },
  {
   "cell_type": "markdown",
   "id": "40372baa",
   "metadata": {},
   "source": [
    "### Find all Users who posted a specific topic of Post (topic is a property of Post)"
   ]
  },
  {
   "cell_type": "code",
   "execution_count": 95,
   "id": "7b243712",
   "metadata": {},
   "outputs": [
    {
     "data": {
      "text/html": [
       "<div>\n",
       "<style scoped>\n",
       "    .dataframe tbody tr th:only-of-type {\n",
       "        vertical-align: middle;\n",
       "    }\n",
       "\n",
       "    .dataframe tbody tr th {\n",
       "        vertical-align: top;\n",
       "    }\n",
       "\n",
       "    .dataframe thead th {\n",
       "        text-align: right;\n",
       "    }\n",
       "</style>\n",
       "<table border=\"1\" class=\"dataframe\">\n",
       "  <thead>\n",
       "    <tr style=\"text-align: right;\">\n",
       "      <th></th>\n",
       "      <th>u.name</th>\n",
       "      <th>p.title</th>\n",
       "      <th>p.body</th>\n",
       "      <th>p.date</th>\n",
       "      <th>p.type</th>\n",
       "    </tr>\n",
       "  </thead>\n",
       "  <tbody>\n",
       "    <tr>\n",
       "      <th>0</th>\n",
       "      <td>Alice Johnson</td>\n",
       "      <td>Introduction to Data Science</td>\n",
       "      <td>Exploring the basics of Data Science...</td>\n",
       "      <td>2023-11-01</td>\n",
       "      <td>text</td>\n",
       "    </tr>\n",
       "    <tr>\n",
       "      <th>1</th>\n",
       "      <td>Bob Smith</td>\n",
       "      <td>Latest Trends in Data Analytics</td>\n",
       "      <td>An overview of recent developments in Data Ana...</td>\n",
       "      <td>2023-11-05</td>\n",
       "      <td>link</td>\n",
       "    </tr>\n",
       "    <tr>\n",
       "      <th>2</th>\n",
       "      <td>Carol Lee</td>\n",
       "      <td>Big Data and Its Impact</td>\n",
       "      <td>Discussing the impact of Big Data on various i...</td>\n",
       "      <td>2023-11-10</td>\n",
       "      <td>video</td>\n",
       "    </tr>\n",
       "    <tr>\n",
       "      <th>3</th>\n",
       "      <td>Carol Lee</td>\n",
       "      <td>Visualizing Data Effectively</td>\n",
       "      <td>Tips on creating effective data visualizations...</td>\n",
       "      <td>2023-11-12</td>\n",
       "      <td>image</td>\n",
       "    </tr>\n",
       "    <tr>\n",
       "      <th>4</th>\n",
       "      <td>Carol Lee</td>\n",
       "      <td>Data Privacy in the Digital Age</td>\n",
       "      <td>A comprehensive look at data privacy concerns ...</td>\n",
       "      <td>2023-11-20</td>\n",
       "      <td>text</td>\n",
       "    </tr>\n",
       "    <tr>\n",
       "      <th>5</th>\n",
       "      <td>Alice Johnson</td>\n",
       "      <td>Top 10 Data Visualization Tools</td>\n",
       "      <td>Ranking and reviewing the top 10 tools for dat...</td>\n",
       "      <td>2023-11-22</td>\n",
       "      <td>link</td>\n",
       "    </tr>\n",
       "    <tr>\n",
       "      <th>6</th>\n",
       "      <td>Bob Smith</td>\n",
       "      <td>Blockchain and Data Security</td>\n",
       "      <td>How blockchain technology is revolutionizing d...</td>\n",
       "      <td>2023-11-25</td>\n",
       "      <td>text</td>\n",
       "    </tr>\n",
       "  </tbody>\n",
       "</table>\n",
       "</div>"
      ],
      "text/plain": [
       "          u.name                          p.title  \\\n",
       "0  Alice Johnson     Introduction to Data Science   \n",
       "1      Bob Smith  Latest Trends in Data Analytics   \n",
       "2      Carol Lee          Big Data and Its Impact   \n",
       "3      Carol Lee     Visualizing Data Effectively   \n",
       "4      Carol Lee  Data Privacy in the Digital Age   \n",
       "5  Alice Johnson  Top 10 Data Visualization Tools   \n",
       "6      Bob Smith     Blockchain and Data Security   \n",
       "\n",
       "                                              p.body      p.date p.type  \n",
       "0            Exploring the basics of Data Science...  2023-11-01   text  \n",
       "1  An overview of recent developments in Data Ana...  2023-11-05   link  \n",
       "2  Discussing the impact of Big Data on various i...  2023-11-10  video  \n",
       "3  Tips on creating effective data visualizations...  2023-11-12  image  \n",
       "4  A comprehensive look at data privacy concerns ...  2023-11-20   text  \n",
       "5  Ranking and reviewing the top 10 tools for dat...  2023-11-22   link  \n",
       "6  How blockchain technology is revolutionizing d...  2023-11-25   text  "
      ]
     },
     "execution_count": 95,
     "metadata": {},
     "output_type": "execute_result"
    }
   ],
   "source": [
    "query = '''\n",
    "MATCH (u:User)-[:CREATED]->(p:Post)\n",
    "WHERE p.title CONTAINS \"Data\" OR p.body CONTAINS \"Data\"\n",
    "RETURN u.name, p.title, p.body, p.date, p.type\n",
    "'''\n",
    "df = run_query(query)\n",
    "df"
   ]
  },
  {
   "cell_type": "markdown",
   "id": "5c420de2",
   "metadata": {},
   "source": [
    "### Find common interests between two specific Users."
   ]
  },
  {
   "cell_type": "code",
   "execution_count": 96,
   "id": "d9ec6be9",
   "metadata": {},
   "outputs": [
    {
     "data": {
      "text/html": [
       "<div>\n",
       "<style scoped>\n",
       "    .dataframe tbody tr th:only-of-type {\n",
       "        vertical-align: middle;\n",
       "    }\n",
       "\n",
       "    .dataframe tbody tr th {\n",
       "        vertical-align: top;\n",
       "    }\n",
       "\n",
       "    .dataframe thead th {\n",
       "        text-align: right;\n",
       "    }\n",
       "</style>\n",
       "<table border=\"1\" class=\"dataframe\">\n",
       "  <thead>\n",
       "    <tr style=\"text-align: right;\">\n",
       "      <th></th>\n",
       "      <th>u1.interest</th>\n",
       "    </tr>\n",
       "  </thead>\n",
       "  <tbody>\n",
       "    <tr>\n",
       "      <th>0</th>\n",
       "      <td>Data Science</td>\n",
       "    </tr>\n",
       "  </tbody>\n",
       "</table>\n",
       "</div>"
      ],
      "text/plain": [
       "    u1.interest\n",
       "0  Data Science"
      ]
     },
     "execution_count": 96,
     "metadata": {},
     "output_type": "execute_result"
    }
   ],
   "source": [
    "query = '''\n",
    "MATCH (u1:User {user_id: \"U001\"}), (u2:User {user_id: \"U005\"})\n",
    "WHERE u1.interest = u2.interest\n",
    "RETURN u1.interest\n",
    "'''\n",
    "df = run_query(query)\n",
    "df"
   ]
  },
  {
   "cell_type": "markdown",
   "id": "541c3ae7",
   "metadata": {},
   "source": [
    "### Retrieve top 3 Users who created most Posts"
   ]
  },
  {
   "cell_type": "code",
   "execution_count": 97,
   "id": "193acc0f",
   "metadata": {},
   "outputs": [
    {
     "data": {
      "text/html": [
       "<div>\n",
       "<style scoped>\n",
       "    .dataframe tbody tr th:only-of-type {\n",
       "        vertical-align: middle;\n",
       "    }\n",
       "\n",
       "    .dataframe tbody tr th {\n",
       "        vertical-align: top;\n",
       "    }\n",
       "\n",
       "    .dataframe thead th {\n",
       "        text-align: right;\n",
       "    }\n",
       "</style>\n",
       "<table border=\"1\" class=\"dataframe\">\n",
       "  <thead>\n",
       "    <tr style=\"text-align: right;\">\n",
       "      <th></th>\n",
       "      <th>u.name</th>\n",
       "      <th>posts_count</th>\n",
       "    </tr>\n",
       "  </thead>\n",
       "  <tbody>\n",
       "    <tr>\n",
       "      <th>0</th>\n",
       "      <td>Carol Lee</td>\n",
       "      <td>4</td>\n",
       "    </tr>\n",
       "    <tr>\n",
       "      <th>1</th>\n",
       "      <td>Bob Smith</td>\n",
       "      <td>2</td>\n",
       "    </tr>\n",
       "    <tr>\n",
       "      <th>2</th>\n",
       "      <td>Alice Johnson</td>\n",
       "      <td>2</td>\n",
       "    </tr>\n",
       "  </tbody>\n",
       "</table>\n",
       "</div>"
      ],
      "text/plain": [
       "          u.name  posts_count\n",
       "0      Carol Lee            4\n",
       "1      Bob Smith            2\n",
       "2  Alice Johnson            2"
      ]
     },
     "execution_count": 97,
     "metadata": {},
     "output_type": "execute_result"
    }
   ],
   "source": [
    "query = '''\n",
    "MATCH (u:User)-[:CREATED]->(p:Post)\n",
    "RETURN u.name, COUNT(p) AS posts_count\n",
    "ORDER BY posts_count DESC\n",
    "LIMIT 3\n",
    "'''\n",
    "df = run_query(query)\n",
    "df"
   ]
  },
  {
   "cell_type": "markdown",
   "id": "eb4113fb",
   "metadata": {},
   "source": [
    "### Retrieve Users who haven’t created any Posts"
   ]
  },
  {
   "cell_type": "code",
   "execution_count": 98,
   "id": "a4c59f45",
   "metadata": {},
   "outputs": [
    {
     "data": {
      "text/html": [
       "<div>\n",
       "<style scoped>\n",
       "    .dataframe tbody tr th:only-of-type {\n",
       "        vertical-align: middle;\n",
       "    }\n",
       "\n",
       "    .dataframe tbody tr th {\n",
       "        vertical-align: top;\n",
       "    }\n",
       "\n",
       "    .dataframe thead th {\n",
       "        text-align: right;\n",
       "    }\n",
       "</style>\n",
       "<table border=\"1\" class=\"dataframe\">\n",
       "  <thead>\n",
       "    <tr style=\"text-align: right;\">\n",
       "      <th></th>\n",
       "      <th>name</th>\n",
       "    </tr>\n",
       "  </thead>\n",
       "  <tbody>\n",
       "    <tr>\n",
       "      <th>0</th>\n",
       "      <td>Frank Harris</td>\n",
       "    </tr>\n",
       "  </tbody>\n",
       "</table>\n",
       "</div>"
      ],
      "text/plain": [
       "           name\n",
       "0  Frank Harris"
      ]
     },
     "execution_count": 98,
     "metadata": {},
     "output_type": "execute_result"
    }
   ],
   "source": [
    "query = '''\n",
    "MATCH (u:User)\n",
    "WHERE NOT EXISTS ((u)-[:CREATED]->(:Post))\n",
    "RETURN u.name AS name\n",
    "'''\n",
    "df = run_query(query)\n",
    "df"
   ]
  },
  {
   "cell_type": "markdown",
   "id": "5b97b2cc",
   "metadata": {},
   "source": [
    "### Given two Users, identify if they are indirectly connected through a chain of friends and, if so, return the connecting path. For instance, can you find a relationship path where Alice is friends with someone (say, Bob), who in turn is friends with Charlie?"
   ]
  },
  {
   "cell_type": "code",
   "execution_count": null,
   "id": "29326e69",
   "metadata": {},
   "outputs": [],
   "source": [
    "# FRIENDS_WITH (User ↔ User)\n",
    "query003_004 = '''\n",
    "MATCH (u3:User {user_id: \"U003\"}), (u4:User {user_id: \"U004\"})\n",
    "CREATE (u3)-[:FRIENDS_WITH {since: \"2020-08-10\"}]->(u4)\n",
    "CREATE (u4)-[:FRIENDS_WITH {since: \"2020-08-10\"}]->(u3)\n",
    "'''\n",
    "\n",
    "query001_003 = '''\n",
    "MATCH (u1:User {user_id: \"U001\"}), (u3:User {user_id: \"U003\"})\n",
    "CREATE (u1)-[:FRIENDS_WITH {since: \"2022-02-05\"}]->(u3)\n",
    "CREATE (u3)-[:FRIENDS_WITH {since: \"2022-02-05\"}]->(u1)\n",
    "'''"
   ]
  },
  {
   "cell_type": "code",
   "execution_count": 101,
   "id": "07908408",
   "metadata": {},
   "outputs": [
    {
     "name": "stdout",
     "output_type": "stream",
     "text": [
      "U001 -> U003 -> U004\n"
     ]
    }
   ],
   "source": [
    "cypher_query = \"\"\"\n",
    "MATCH path = shortestPath((u1:User {user_id: \"U001\"})-[:FRIENDS_WITH*]->(u2:User {user_id: \"U004\"}))\n",
    "WHERE length(path) > 1\n",
    "RETURN [node in nodes(path) | node.user_id] AS user_ids\n",
    "\"\"\"\n",
    "\n",
    "def find_indirect_connection(session):\n",
    "    result = session.run(cypher_query)\n",
    "    connecting_paths = []\n",
    "    for record in result:\n",
    "        user_ids = record[\"user_ids\"]\n",
    "        connecting_paths.append(user_ids)\n",
    "    return connecting_paths\n",
    "\n",
    "with GraphDatabase.driver(\"bolt://localhost:7687\", auth=(\"neo4j\", \"password\")) as driver:\n",
    "    with driver.session() as session:\n",
    "        connecting_paths = find_indirect_connection(session)\n",
    "        for user_ids in connecting_paths:\n",
    "            print(\" -> \".join(user_ids))"
   ]
  },
  {
   "cell_type": "markdown",
   "id": "06f075c2",
   "metadata": {},
   "source": [
    "### Write a query to identify orphaned Users (Users who have no connections: in this case, no friends and now followers)"
   ]
  },
  {
   "cell_type": "code",
   "execution_count": 26,
   "id": "5665993a",
   "metadata": {},
   "outputs": [
    {
     "data": {
      "text/html": [
       "<div>\n",
       "<style scoped>\n",
       "    .dataframe tbody tr th:only-of-type {\n",
       "        vertical-align: middle;\n",
       "    }\n",
       "\n",
       "    .dataframe tbody tr th {\n",
       "        vertical-align: top;\n",
       "    }\n",
       "\n",
       "    .dataframe thead th {\n",
       "        text-align: right;\n",
       "    }\n",
       "</style>\n",
       "<table border=\"1\" class=\"dataframe\">\n",
       "  <thead>\n",
       "    <tr style=\"text-align: right;\">\n",
       "      <th></th>\n",
       "      <th>name</th>\n",
       "    </tr>\n",
       "  </thead>\n",
       "  <tbody>\n",
       "    <tr>\n",
       "      <th>0</th>\n",
       "      <td>Frank Harris</td>\n",
       "    </tr>\n",
       "  </tbody>\n",
       "</table>\n",
       "</div>"
      ],
      "text/plain": [
       "           name\n",
       "0  Frank Harris"
      ]
     },
     "execution_count": 26,
     "metadata": {},
     "output_type": "execute_result"
    }
   ],
   "source": [
    "query = '''\n",
    "MATCH (u:User)\n",
    "WHERE NOT EXISTS ((u)-[:FRIENDS_WITH]-(:User)) AND NOT EXISTS ((u)-[:FOLLOWING]-(:User))\n",
    "RETURN u.name AS name\n",
    "'''\n",
    "df = run_query(query)\n",
    "df"
   ]
  },
  {
   "cell_type": "markdown",
   "id": "21ece1b4",
   "metadata": {},
   "source": [
    "### Can you think of a scenario when this information is useful?"
   ]
  },
  {
   "cell_type": "markdown",
   "id": "3aa53370",
   "metadata": {},
   "source": [
    "Orphaned users are those who are not engaged with the platform’s network. This information is useful to identify new users who might need engagement or support, or to detect inactive or potentially fake accounts.?"
   ]
  }
 ],
 "metadata": {
  "kernelspec": {
   "display_name": "Python 3 (ipykernel)",
   "language": "python",
   "name": "python3"
  },
  "language_info": {
   "codemirror_mode": {
    "name": "ipython",
    "version": 3
   },
   "file_extension": ".py",
   "mimetype": "text/x-python",
   "name": "python",
   "nbconvert_exporter": "python",
   "pygments_lexer": "ipython3",
   "version": "3.11.3"
  }
 },
 "nbformat": 4,
 "nbformat_minor": 5
}
